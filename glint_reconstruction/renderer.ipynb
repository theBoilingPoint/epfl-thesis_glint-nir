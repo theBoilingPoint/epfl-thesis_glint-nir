{
 "cells": [
  {
   "cell_type": "code",
   "execution_count": 1,
   "metadata": {},
   "outputs": [],
   "source": [
    "import os\n",
    "import OpenEXR\n",
    "import Imath\n",
    "import imageio\n",
    "\n",
    "import torch\n",
    "import numpy as np\n",
    "\n",
    "import nvdiffrast.torch as dr\n",
    "\n",
    "from render import render, util, mesh, light\n",
    "from render.renderutils.glint_brdf.glint_utils import PCG3dFloat"
   ]
  },
  {
   "cell_type": "code",
   "execution_count": 2,
   "metadata": {},
   "outputs": [],
   "source": [
    "USE_GLINT = True\n",
    "itr = 0 # Go to check the getMV function to see how this determines the angle of rendering\n",
    "\n",
    "if USE_GLINT:\n",
    "    _ScreenSpaceScale = 0.001\n",
    "    _LogMicrofacetDensity = 50.0\n",
    "    _DensityRandomization = 10.0"
   ]
  },
  {
   "cell_type": "code",
   "execution_count": 3,
   "metadata": {},
   "outputs": [],
   "source": [
    "# Input\n",
    "data_root_dir = os.path.join(os.getcwd(), 'data')\n",
    "ref_mesh_path = os.path.join(data_root_dir, 'meshes', 'bob.obj')\n",
    "ref_mesh_mat_path = os.path.join(data_root_dir, 'meshes', 'bob_glint.mtl') if USE_GLINT else os.path.join(data_root_dir, 'meshes', 'bob_metallic.mtl')\n",
    "envlight_path = os.path.join(data_root_dir, 'irrmaps', 'clarens.hdr')\n",
    "# Output\n",
    "output_root_dir = os.path.join(os.getcwd(), 'out', 'rendered_imgs')\n",
    "output_file_name = f\"out_itr{itr}_{_ScreenSpaceScale}_{_LogMicrofacetDensity}_{_DensityRandomization}\" if USE_GLINT else f\"out_metallic_itr{itr}\" \n",
    "output_file_name = f'{output_file_name}_gumbel_softmax'\n",
    "output_file_name = 'out'"
   ]
  },
  {
   "cell_type": "code",
   "execution_count": 4,
   "metadata": {},
   "outputs": [
    {
     "data": {
      "text/plain": [
       "'out'"
      ]
     },
     "execution_count": 4,
     "metadata": {},
     "output_type": "execute_result"
    }
   ],
   "source": [
    "output_file_name"
   ]
  },
  {
   "cell_type": "code",
   "execution_count": 5,
   "metadata": {},
   "outputs": [
    {
     "name": "stdout",
     "output_type": "stream",
     "text": [
      "Using /home/w123/.cache/torch_extensions/py39_cu116 as PyTorch extensions root...\n",
      "Detected CUDA files, patching ldflags\n",
      "Emitting ninja build file /home/w123/.cache/torch_extensions/py39_cu116/renderutils_plugin/build.ninja...\n",
      "Building extension module renderutils_plugin...\n",
      "Allowing ninja to set a default number of workers... (overridable by setting the environment variable MAX_JOBS=N)\n",
      "ninja: no work to do.\n",
      "Loading extension module renderutils_plugin...\n"
     ]
    }
   ],
   "source": [
    "# Initialise rasteriser\n",
    "glctx = dr.RasterizeGLContext()\n",
    "ref_mesh = mesh.load_mesh(ref_mesh_path, ref_mesh_mat_path)\n",
    "ref_mesh = mesh.compute_tangents(ref_mesh)\n",
    "envlight = light.load_env(envlight_path)\n",
    "\n",
    "if USE_GLINT:\n",
    "    pcg3d = PCG3dFloat(3,3)\n",
    "    pcg3d.load_state_dict(torch.load(os.path.join('render', 'renderutils', 'glint_brdf', 'weights', 'model_state_dict.pth')))\n",
    "\n",
    "    ref_mesh.material['glint_params'] = torch.tensor([_LogMicrofacetDensity, _DensityRandomization, _ScreenSpaceScale], device='cuda') # Comment out this line to use regular rendering without glints\n",
    "    ref_mesh.material['glint_pcg3d'] = pcg3d.to('cuda')\n",
    "    # ref_mesh.material['glint_4d_noise'] = torch.rand(800, 800, 4, device='cuda')\n",
    "    ref_mesh.material['glint_4d_noise'] = torch.load(os.path.join(os.getcwd(), 'render', 'renderutils', 'glint_brdf', 'noise_maps', 'glint_4d_noise_800.pt')).to('cuda')"
   ]
  },
  {
   "cell_type": "code",
   "execution_count": 6,
   "metadata": {},
   "outputs": [],
   "source": [
    "fovy = np.deg2rad(45)\n",
    "display_res = [512, 512]\n",
    "cam_near_far = [0.1, 1000.0]\n",
    "cam_radius = 3.0\n",
    "spp = 1\n",
    "layers = 1"
   ]
  },
  {
   "cell_type": "code",
   "execution_count": 7,
   "metadata": {},
   "outputs": [],
   "source": [
    "def getMV(itr):\n",
    "    # Smooth rotation for display.\n",
    "    ang = (itr / 50) * np.pi * 2\n",
    "    return util.translate(0, 0, -cam_radius) @ (util.rotate_x(-0.4) @ util.rotate_y(ang))\n",
    "    \n",
    "def getMVP(itr):\n",
    "    proj_mtx = util.perspective(fovy, display_res[1] / display_res[0], cam_near_far[0], cam_near_far[1])\n",
    "    \n",
    "    return (proj_mtx @ getMV(itr))[None, ...].cuda()\n",
    "\n",
    "def getCamPos(itr):\n",
    "    return (torch.linalg.inv(getMV(itr))[:3, 3])[None, ...].cuda()\n",
    "\n",
    "def save_as_exr(img, path):\n",
    "    R = img[..., 0].tobytes()\n",
    "    G = img[..., 1].tobytes()\n",
    "    B = img[..., 2].tobytes()\n",
    "    \n",
    "    # Create an EXR file\n",
    "    HEADER = OpenEXR.Header(img.shape[1], img.shape[0])\n",
    "    exr = OpenEXR.OutputFile(path, HEADER)\n",
    "    exr.writePixels({'R': R, 'G': G, 'B': B})\n",
    "    exr.close()\n",
    "\n",
    "def exr_to_png(input_exr, output_png, use_glsl=False):  \n",
    "    # Open the EXR file\n",
    "    exr_file = OpenEXR.InputFile(input_exr)\n",
    "    \n",
    "    # Get the size of the image\n",
    "    dw = exr_file.header()['dataWindow']\n",
    "    width = dw.max.x - dw.min.x + 1\n",
    "    height = dw.max.y - dw.min.y + 1\n",
    "\n",
    "    # Define the channel type and extract R, G, B channels\n",
    "    pt = Imath.PixelType(Imath.PixelType.FLOAT)\n",
    "    R = np.frombuffer(exr_file.channel('R', pt), dtype=np.float32).reshape(height, width)\n",
    "    G = np.frombuffer(exr_file.channel('G', pt), dtype=np.float32).reshape(height, width)\n",
    "    B = np.frombuffer(exr_file.channel('B', pt), dtype=np.float32).reshape(height, width)\n",
    "\n",
    "    # Stack the channels to get an RGB image\n",
    "    img = np.stack([R, G, B], axis=-1)\n",
    "\n",
    "    if use_glsl:\n",
    "        ## Adjusting the image to save as PNG\n",
    "        # Apply Reinhard tone mapping: c' = c / (c + 1)\n",
    "        img_reinhard = img / (img + 1.0)\n",
    "        # Apply gamma correction: c' = c^(1/gamma)\n",
    "        img_corrected = np.power(img_reinhard, 1.0 / 2.2)\n",
    "    else: # This one's output will look the same as the EXR in tev\n",
    "        # Convert NumPy array to PyTorch tensor\n",
    "        img_tensor = torch.from_numpy(img)\n",
    "        # Apply sRGB to linear RGB conversion\n",
    "        img_corrected = util.rgb_to_srgb(img_tensor)\n",
    "        # Convert the corrected tensor back to NumPy array\n",
    "        img_corrected = img_corrected.numpy()\n",
    "    \n",
    "    # Clip and convert the image data to the range [0, 1] and then to uint8\n",
    "    img_clipped = np.clip(img_corrected, 0, 1)\n",
    "    img_8bit = (img_clipped * 255).astype(np.uint8)\n",
    "    # Save the image as PNG\n",
    "    imageio.imwrite(output_png, img_8bit)"
   ]
  },
  {
   "cell_type": "code",
   "execution_count": 8,
   "metadata": {},
   "outputs": [
    {
     "name": "stdout",
     "output_type": "stream",
     "text": [
      "training glints\n"
     ]
    }
   ],
   "source": [
    "img = render.render_mesh(glctx, ref_mesh, getMVP(itr), getCamPos(itr), envlight, display_res, spp=spp, \n",
    "                                num_layers=layers, msaa=True, background=None)['shaded']\n",
    "img_detached = img.detach().cpu().numpy()[0]"
   ]
  },
  {
   "cell_type": "code",
   "execution_count": 9,
   "metadata": {},
   "outputs": [],
   "source": [
    "# View the image in Tev after saving\n",
    "output_exr_path = os.path.join(output_root_dir, f'{output_file_name}.exr')\n",
    "save_as_exr(img_detached, output_exr_path)"
   ]
  },
  {
   "cell_type": "code",
   "execution_count": 10,
   "metadata": {},
   "outputs": [],
   "source": [
    "# Example usage\n",
    "exr_to_png(output_exr_path, os.path.join(output_root_dir, f'{output_file_name}_nvdiffrec.png'))\n",
    "exr_to_png(output_exr_path, os.path.join(output_root_dir, f'{output_file_name}_glsl.png'), True)"
   ]
  }
 ],
 "metadata": {
  "kernelspec": {
   "display_name": "dmodel",
   "language": "python",
   "name": "python3"
  },
  "language_info": {
   "codemirror_mode": {
    "name": "ipython",
    "version": 3
   },
   "file_extension": ".py",
   "mimetype": "text/x-python",
   "name": "python",
   "nbconvert_exporter": "python",
   "pygments_lexer": "ipython3",
   "version": "3.9.19"
  }
 },
 "nbformat": 4,
 "nbformat_minor": 2
}
