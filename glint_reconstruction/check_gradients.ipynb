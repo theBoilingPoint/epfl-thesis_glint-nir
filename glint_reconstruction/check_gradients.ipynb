{
 "cells": [
  {
   "cell_type": "markdown",
   "metadata": {},
   "source": [
    "> \"I would assume that the majority of mathematically differentiable functions are also differentiable in PyTorch, but to make sure that’s the case, you could check the .grad_fn attribute of the output using inputs, which require gradients.\"\n",
    "\n",
    "Check [here](https://discuss.pytorch.org/t/how-to-know-if-specific-function-is-differential-or-not/125960) for the original post."
   ]
  },
  {
   "cell_type": "code",
   "execution_count": 1,
   "metadata": {},
   "outputs": [],
   "source": [
    "import torch"
   ]
  },
  {
   "cell_type": "code",
   "execution_count": 12,
   "metadata": {},
   "outputs": [
    {
     "name": "stdout",
     "output_type": "stream",
     "text": [
      "tensor([[0.4019, 0.6961, 0.0537, 0.4299, 0.5968, 0.8849, 0.3535, 0.1059, 0.8252,\n",
      "         0.5472],\n",
      "        [0.4548, 0.3110, 0.0322, 0.3712, 0.5786, 0.5465, 0.2192, 0.7135, 0.1405,\n",
      "         0.3875],\n",
      "        [0.4237, 0.8646, 0.6930, 0.5656, 0.1491, 0.6863, 0.4084, 0.5991, 0.9628,\n",
      "         0.3393],\n",
      "        [0.4479, 0.6812, 0.0864, 0.8677, 0.5987, 0.6024, 0.5293, 0.4175, 0.7691,\n",
      "         0.8645],\n",
      "        [0.8861, 0.8486, 0.4147, 0.8210, 0.3779, 0.8914, 0.8373, 0.1563, 0.0351,\n",
      "         0.4248],\n",
      "        [0.3100, 0.9536, 0.4622, 0.8061, 0.8386, 0.7139, 0.9863, 0.4572, 0.4970,\n",
      "         0.4315],\n",
      "        [0.6883, 0.7584, 0.6738, 0.7593, 0.7886, 0.3209, 0.6570, 0.9741, 0.2209,\n",
      "         0.1152],\n",
      "        [0.3146, 0.8450, 0.5191, 0.2427, 0.4725, 0.5331, 0.6139, 0.4194, 0.4186,\n",
      "         0.6386],\n",
      "        [0.9546, 0.4847, 0.4389, 0.5644, 0.2881, 0.5395, 0.5080, 0.4445, 0.3483,\n",
      "         0.7216],\n",
      "        [0.5485, 0.3029, 0.9700, 0.6704, 0.9598, 0.9302, 0.4467, 0.2566, 0.7236,\n",
      "         0.8392],\n",
      "        [0.3145, 0.4898, 0.0856, 0.6453, 0.3373, 0.0823, 0.1964, 0.5674, 0.9529,\n",
      "         0.6090],\n",
      "        [0.5850, 0.9725, 0.4261, 0.1079, 0.0847, 0.2226, 0.0689, 0.6205, 0.2780,\n",
      "         0.1780],\n",
      "        [0.2954, 0.3933, 0.0408, 0.5735, 0.2648, 0.5809, 0.0506, 0.0191, 0.0844,\n",
      "         0.6141],\n",
      "        [0.1940, 0.5494, 0.8768, 0.0772, 0.8231, 0.5555, 0.3171, 0.2934, 0.3225,\n",
      "         0.2786],\n",
      "        [0.0504, 0.2879, 0.6880, 0.2247, 0.8787, 0.7320, 0.9887, 0.4960, 0.4667,\n",
      "         0.4973],\n",
      "        [0.3139, 0.2100, 0.1068, 0.7408, 0.3067, 0.4335, 0.7057, 0.5919, 0.2095,\n",
      "         0.8916],\n",
      "        [0.3246, 0.1507, 0.9047, 0.6051, 0.6951, 0.8245, 0.6529, 0.3720, 0.4426,\n",
      "         0.5231],\n",
      "        [0.9233, 0.3562, 0.2688, 0.8733, 0.5483, 0.5703, 0.9100, 0.0911, 0.5515,\n",
      "         0.1989],\n",
      "        [0.6786, 0.7414, 0.1585, 0.7834, 0.2296, 0.9022, 0.3846, 0.4401, 0.1073,\n",
      "         0.7273],\n",
      "        [0.0950, 0.8828, 0.8578, 0.3688, 0.5122, 0.1048, 0.9895, 0.4683, 0.9296,\n",
      "         0.6757]], grad_fn=<CatBackward0>) \n",
      " <CatBackward0 object at 0x7f7cf40ecd30>\n"
     ]
    }
   ],
   "source": [
    "x = torch.rand(10, 10, requires_grad=True)\n",
    "y = torch.rand(10, 10, requires_grad=True)\n",
    "\n",
    "out = torch.cat((x, y), 0)\n",
    "\n",
    "print(out, '\\n', out.grad_fn)"
   ]
  },
  {
   "cell_type": "code",
   "execution_count": null,
   "metadata": {},
   "outputs": [],
   "source": []
  }
 ],
 "metadata": {
  "kernelspec": {
   "display_name": "dmodel",
   "language": "python",
   "name": "python3"
  },
  "language_info": {
   "codemirror_mode": {
    "name": "ipython",
    "version": 3
   },
   "file_extension": ".py",
   "mimetype": "text/x-python",
   "name": "python",
   "nbconvert_exporter": "python",
   "pygments_lexer": "ipython3",
   "version": "3.9.19"
  }
 },
 "nbformat": 4,
 "nbformat_minor": 2
}
