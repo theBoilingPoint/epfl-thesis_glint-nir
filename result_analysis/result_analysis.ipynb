{
 "cells": [
  {
   "cell_type": "markdown",
   "metadata": {},
   "source": [
    "# Result Analysis"
   ]
  },
  {
   "cell_type": "code",
   "execution_count": null,
   "metadata": {},
   "outputs": [],
   "source": [
    "import os\n",
    "import cv2\n",
    "import numpy as np\n",
    "import lpips\n",
    "import torch\n",
    "from PIL import Image\n",
    "from skimage.metrics import structural_similarity as ssim\n",
    "from skimage.metrics import peak_signal_noise_ratio as psnr"
   ]
  },
  {
   "cell_type": "code",
   "execution_count": null,
   "metadata": {},
   "outputs": [],
   "source": [
    "imgs_dir = os.path.join(os.getcwd(), 'data', 'bob_clarens')\n",
    "number_of_imgs = 200"
   ]
  },
  {
   "cell_type": "code",
   "execution_count": null,
   "metadata": {},
   "outputs": [],
   "source": [
    "def compute_fft(image):\n",
    "    # Apply FFT\n",
    "    f = np.fft.fft2(image)\n",
    "    # Shift the zero frequency component to the center\n",
    "    fshift = np.fft.fftshift(f)\n",
    "    # Compute the magnitude spectrum\n",
    "    magnitude_spectrum = np.abs(fshift)\n",
    "    return magnitude_spectrum.astype(np.float32)"
   ]
  },
  {
   "cell_type": "markdown",
   "metadata": {},
   "source": [
    "# MAE"
   ]
  },
  {
   "cell_type": "code",
   "execution_count": null,
   "metadata": {},
   "outputs": [],
   "source": [
    "def calculate_mae(image1, image2):\n",
    "    # Ensure the images have the same dimensions\n",
    "    assert image1.shape == image2.shape, \"Images must have the same dimensions\"\n",
    "    \n",
    "    # Compute the Mean Absolute Error\n",
    "    mae = np.mean(np.abs(image1 - image2))\n",
    "    return mae"
   ]
  },
  {
   "cell_type": "markdown",
   "metadata": {},
   "source": [
    "## Image Domain"
   ]
  },
  {
   "cell_type": "code",
   "execution_count": null,
   "metadata": {},
   "outputs": [],
   "source": [
    "mae_1_lst = np.array([])\n",
    "mae_2_lst = np.array([])\n",
    "mae_3_lst = np.array([])\n",
    "\n",
    "for i in range(number_of_imgs):\n",
    "    # Load the images as RGB\n",
    "    ref = np.array(Image.open(os.path.join(imgs_dir, 'ref', f'r_{i}.png')).convert('RGB'))\n",
    "    gsir = np.array(Image.open(os.path.join(imgs_dir, 'gsir', f'r_{i}.png')).convert('RGB'))\n",
    "    tensoir = np.array(Image.open(os.path.join(imgs_dir, 'tensoir', f'r_{i}.png')).convert('RGB'))\n",
    "    mine = np.array(Image.open(os.path.join(imgs_dir, 'mine', f'r_{i}.png')).convert('RGB'))\n",
    "\n",
    "    mae_1 = calculate_mae(ref, gsir)\n",
    "    mae_2 = calculate_mae(ref, tensoir)\n",
    "    mae_3 = calculate_mae(ref, mine)\n",
    "\n",
    "    mae_1_lst = np.append(mae_1_lst, mae_1)\n",
    "    mae_2_lst = np.append(mae_2_lst, mae_2)\n",
    "    mae_3_lst = np.append(mae_3_lst, mae_3)\n",
    "        \n",
    "\n",
    "print(f'MAE between Reference and GS-IR: {mae_1_lst.mean()}')\n",
    "print(f'MAE between Reference and TensoIR: {mae_2_lst.mean()}')\n",
    "print(f'MAE between Reference and Mine: {mae_3_lst.mean()}')"
   ]
  },
  {
   "cell_type": "markdown",
   "metadata": {},
   "source": [
    "## Fourier Domain"
   ]
  },
  {
   "cell_type": "code",
   "execution_count": null,
   "metadata": {},
   "outputs": [],
   "source": [
    "mae_1_lst = np.array([])\n",
    "mae_2_lst = np.array([])\n",
    "mae_3_lst = np.array([])\n",
    "\n",
    "for i in range(number_of_imgs):\n",
    "    # Load the images as grayscale\n",
    "    ref_gray = cv2.imread(os.path.join(imgs_dir, 'ref', f'r_{i}.png'), cv2.IMREAD_GRAYSCALE)\n",
    "    gsir_gray = cv2.imread(os.path.join(imgs_dir, 'gsir', f'r_{i}.png'), cv2.IMREAD_GRAYSCALE)\n",
    "    tensoir_gray = cv2.imread(os.path.join(imgs_dir, 'tensoir', f'r_{i}.png'), cv2.IMREAD_GRAYSCALE)\n",
    "    mine_gray = cv2.imread(os.path.join(imgs_dir, 'mine', f'r_{i}.png'), cv2.IMREAD_GRAYSCALE)\n",
    "\n",
    "    ref_spectrum = compute_fft(ref_gray)\n",
    "    gsir_spectrum = compute_fft(gsir_gray)\n",
    "    tensoir_spectrum = compute_fft(tensoir_gray)\n",
    "    mine_spectrum = compute_fft(mine_gray)\n",
    "\n",
    "    mae_1 = calculate_mae(ref, gsir)\n",
    "    mae_2 = calculate_mae(ref, tensoir)\n",
    "    mae_3 = calculate_mae(ref, mine)\n",
    "\n",
    "    mae_1_lst = np.append(mae_1_lst, mae_1)\n",
    "    mae_2_lst = np.append(mae_2_lst, mae_2)\n",
    "    mae_3_lst = np.append(mae_3_lst, mae_3)\n",
    "\n",
    "print(f'MAE between Reference and GS-IR: {mae_1_lst.mean()}')\n",
    "print(f'MAE between Reference and TensoIR: {mae_2_lst.mean()}')\n",
    "print(f'MAE between Reference and Mine: {mae_3_lst.mean()}')"
   ]
  },
  {
   "cell_type": "markdown",
   "metadata": {},
   "source": [
    "# MSE"
   ]
  },
  {
   "cell_type": "code",
   "execution_count": null,
   "metadata": {},
   "outputs": [],
   "source": [
    "def mse(imageA, imageB):\n",
    "    # Compute the Mean Squared Error between the two images\n",
    "    return np.mean((imageA - imageB) ** 2)"
   ]
  },
  {
   "cell_type": "markdown",
   "metadata": {},
   "source": [
    "## Image Domain"
   ]
  },
  {
   "cell_type": "code",
   "execution_count": null,
   "metadata": {},
   "outputs": [],
   "source": [
    "mse_1_lst = np.array([])\n",
    "mse_2_lst = np.array([])\n",
    "mse_3_lst = np.array([])\n",
    "\n",
    "for i in range(number_of_imgs):\n",
    "    # Load the images as RGB\n",
    "    ref = np.array(Image.open(os.path.join(imgs_dir, 'ref', f'r_{i}.png')).convert('RGB'))\n",
    "    gsir = np.array(Image.open(os.path.join(imgs_dir, 'gsir', f'r_{i}.png')).convert('RGB'))\n",
    "    tensoir = np.array(Image.open(os.path.join(imgs_dir, 'tensoir', f'r_{i}.png')).convert('RGB'))\n",
    "    mine = np.array(Image.open(os.path.join(imgs_dir, 'mine', f'r_{i}.png')).convert('RGB'))\n",
    "\n",
    "    mse_1 = mse(ref, gsir)\n",
    "    mse_2 = mse(ref, tensoir)\n",
    "    mse_3 = mse(ref, mine)\n",
    "\n",
    "    mse_1_lst = np.append(mse_1_lst, mse_1)\n",
    "    mse_2_lst = np.append(mse_2_lst, mse_2)\n",
    "    mse_3_lst = np.append(mse_3_lst, mse_3)\n",
    "\n",
    "print(f'MSE between Reference and GS-IR: {mse_1_lst.mean()}')\n",
    "print(f'MSE between Reference and TensoIR: {mse_2_lst.mean()}')\n",
    "print(f'MSE between Reference and Mine: {mse_3_lst.mean()}')"
   ]
  },
  {
   "cell_type": "markdown",
   "metadata": {},
   "source": [
    "## Fourier Domain"
   ]
  },
  {
   "cell_type": "code",
   "execution_count": null,
   "metadata": {},
   "outputs": [],
   "source": [
    "# Compute MSE between the reference spectrum and each reconstruction spectrum\n",
    "mse_1_lst = np.array([])\n",
    "mse_2_lst = np.array([])\n",
    "mse_3_lst = np.array([])\n",
    "\n",
    "for i in range(number_of_imgs):\n",
    "    # Load the images as grayscale\n",
    "    ref_gray = cv2.imread(os.path.join(imgs_dir, 'ref', f'r_{i}.png'), cv2.IMREAD_GRAYSCALE)\n",
    "    gsir_gray = cv2.imread(os.path.join(imgs_dir, 'gsir', f'r_{i}.png'), cv2.IMREAD_GRAYSCALE)\n",
    "    tensoir_gray = cv2.imread(os.path.join(imgs_dir, 'tensoir', f'r_{i}.png'), cv2.IMREAD_GRAYSCALE)\n",
    "    mine_gray = cv2.imread(os.path.join(imgs_dir, 'mine', f'r_{i}.png'), cv2.IMREAD_GRAYSCALE)\n",
    "\n",
    "    ref_spectrum = compute_fft(ref_gray)\n",
    "    gsir_spectrum = compute_fft(gsir_gray)\n",
    "    tensoir_spectrum = compute_fft(tensoir_gray)\n",
    "    mine_spectrum = compute_fft(mine_gray)\n",
    "\n",
    "    mse_1 = mse(ref_spectrum, gsir_spectrum)\n",
    "    mse_2 = mse(ref_spectrum, tensoir_spectrum)\n",
    "    mse_3 = mse(ref_spectrum, mine_spectrum)\n",
    "\n",
    "    mse_1_lst = np.append(mse_1_lst, mse_1)\n",
    "    mse_2_lst = np.append(mse_2_lst, mse_2)\n",
    "    mse_3_lst = np.append(mse_3_lst, mse_3)\n",
    "\n",
    "print('MSE between Reference and GS-IR:', mse_1_lst.mean())\n",
    "print('MSE between Reference and TensoIR:', mse_2_lst.mean())\n",
    "print('MSE between Reference and Mine:', mse_3_lst.mean())"
   ]
  },
  {
   "cell_type": "markdown",
   "metadata": {},
   "source": [
    "# SSIM"
   ]
  },
  {
   "cell_type": "markdown",
   "metadata": {},
   "source": [
    "## Image Domain"
   ]
  },
  {
   "cell_type": "code",
   "execution_count": null,
   "metadata": {},
   "outputs": [],
   "source": [
    "ssim_score1_lst = np.array([])\n",
    "ssim_score2_lst = np.array([])\n",
    "ssim_score3_lst = np.array([])\n",
    "\n",
    "for i in range(number_of_imgs):\n",
    "    # Load the images as RGB\n",
    "    ref = np.array(Image.open(os.path.join(imgs_dir, 'ref', f'r_{i}.png')).convert('RGB'))\n",
    "    gsir = np.array(Image.open(os.path.join(imgs_dir, 'gsir', f'r_{i}.png')).convert('RGB'))\n",
    "    tensoir = np.array(Image.open(os.path.join(imgs_dir, 'tensoir', f'r_{i}.png')).convert('RGB'))\n",
    "    mine = np.array(Image.open(os.path.join(imgs_dir, 'mine', f'r_{i}.png')).convert('RGB'))\n",
    "\n",
    "    data_range = ref.max() - ref.min()\n",
    "    ssim_score1, ssim_image1 = ssim(ref, gsir, data_range=data_range, full=True, win_size=11, channel_axis=2)\n",
    "    ssim_score2, ssim_image2 = ssim(ref, tensoir, data_range=data_range, full=True, win_size=11, channel_axis=2)\n",
    "    ssim_score3, ssim_image3 = ssim(ref, mine, data_range=data_range, full=True, win_size=11, channel_axis=2)\n",
    "\n",
    "    ssim_score1_lst = np.append(ssim_score1_lst, ssim_score1)\n",
    "    ssim_score2_lst = np.append(ssim_score2_lst, ssim_score2)\n",
    "    ssim_score3_lst = np.append(ssim_score3_lst, ssim_score3)\n",
    "\n",
    "print(f'SSIM between Reference and GS-IR: {ssim_score1_lst.mean()}')\n",
    "print(f'SSIM between Reference and TensoIR: {ssim_score2_lst.mean()}')\n",
    "print(f'SSIM between Reference and Mine: {ssim_score3_lst.mean()}')"
   ]
  },
  {
   "cell_type": "markdown",
   "metadata": {},
   "source": [
    "## Fourier Domain"
   ]
  },
  {
   "cell_type": "code",
   "execution_count": null,
   "metadata": {},
   "outputs": [],
   "source": [
    "ssim_score1_lst = np.array([])\n",
    "ssim_score2_lst = np.array([])\n",
    "ssim_score3_lst = np.array([])\n",
    "\n",
    "for i in range(number_of_imgs):\n",
    "    # Load the images as grayscale\n",
    "    ref_gray = cv2.imread(os.path.join(imgs_dir, 'ref', f'r_{i}.png'), cv2.IMREAD_GRAYSCALE)\n",
    "    gsir_gray = cv2.imread(os.path.join(imgs_dir, 'gsir', f'r_{i}.png'), cv2.IMREAD_GRAYSCALE)\n",
    "    tensoir_gray = cv2.imread(os.path.join(imgs_dir, 'tensoir', f'r_{i}.png'), cv2.IMREAD_GRAYSCALE)\n",
    "    mine_gray = cv2.imread(os.path.join(imgs_dir, 'mine', f'r_{i}.png'), cv2.IMREAD_GRAYSCALE)\n",
    "\n",
    "    ref_spectrum = compute_fft(ref_gray)\n",
    "    gsir_spectrum = compute_fft(gsir_gray)\n",
    "    tensoir_spectrum = compute_fft(tensoir_gray)\n",
    "    mine_spectrum = compute_fft(mine_gray)\n",
    "\n",
    "    # Compute SSIM\n",
    "    data_range = ref_spectrum.max() - ref_spectrum.min()\n",
    "    ssim_score1, ssim_image1 = ssim(ref_spectrum, gsir_spectrum, full=True, data_range=data_range)\n",
    "    ssim_score2, ssim_image2 = ssim(ref_spectrum, tensoir_spectrum, full=True, data_range=data_range)\n",
    "    ssim_score3, ssim_image3 = ssim(ref_spectrum, mine_spectrum, full=True, data_range=data_range)\n",
    "\n",
    "    ssim_score1_lst = np.append(ssim_score1_lst, ssim_score1)\n",
    "    ssim_score2_lst = np.append(ssim_score2_lst, ssim_score2)\n",
    "    ssim_score3_lst = np.append(ssim_score3_lst, ssim_score3)\n",
    "\n",
    "print('SSIM between Reference and GS-IR:', ssim_score1_lst.mean())\n",
    "print('SSIM between Reference and TensoIR:', ssim_score2.mean())\n",
    "print('SSIM between Reference and Mine:', ssim_score3.mean()) "
   ]
  },
  {
   "cell_type": "markdown",
   "metadata": {},
   "source": [
    "# PSNR"
   ]
  },
  {
   "cell_type": "markdown",
   "metadata": {},
   "source": [
    "## Image Domain"
   ]
  },
  {
   "cell_type": "code",
   "execution_count": null,
   "metadata": {},
   "outputs": [],
   "source": [
    "psnr_score1_lst = np.array([])\n",
    "psnr_score2_lst = np.array([])\n",
    "psnr_score3_lst = np.array([])\n",
    "\n",
    "for i in range(number_of_imgs):\n",
    "    # Load the images as RGB\n",
    "    ref = np.array(Image.open(os.path.join(imgs_dir, 'ref', f'r_{i}.png')).convert('RGB'))\n",
    "    gsir = np.array(Image.open(os.path.join(imgs_dir, 'gsir', f'r_{i}.png')).convert('RGB'))\n",
    "    tensoir = np.array(Image.open(os.path.join(imgs_dir, 'tensoir', f'r_{i}.png')).convert('RGB'))\n",
    "    mine = np.array(Image.open(os.path.join(imgs_dir, 'mine', f'r_{i}.png')).convert('RGB'))\n",
    "\n",
    "    data_range = ref.max() - ref.min()\n",
    "    psnr_score1 = psnr(ref, gsir, data_range=data_range)\n",
    "    psnr_score2 = psnr(ref, tensoir, data_range=data_range)\n",
    "    psnr_score3 = psnr(ref, mine, data_range=data_range)\n",
    "\n",
    "    psnr_score1_lst = np.append(psnr_score1_lst, psnr_score1)\n",
    "    psnr_score2_lst = np.append(psnr_score2_lst, psnr_score2)\n",
    "    psnr_score3_lst = np.append(psnr_score3_lst, psnr_score3)\n",
    "\n",
    "print(f'PSNR between Reference and GS-IR: {psnr_score1_lst.mean()}')\n",
    "print(f'PSNR between Reference and TensoIR: {psnr_score2_lst.mean()}')\n",
    "print(f'PSNR between Reference and Mine: {psnr_score3_lst.mean()}')"
   ]
  },
  {
   "cell_type": "markdown",
   "metadata": {},
   "source": [
    "## Fourier Domain"
   ]
  },
  {
   "cell_type": "code",
   "execution_count": null,
   "metadata": {},
   "outputs": [],
   "source": [
    "psnr_score1_lst = np.array([])\n",
    "psnr_score2_lst = np.array([])\n",
    "psnr_score3_lst = np.array([])\n",
    "\n",
    "for i in range(number_of_imgs):\n",
    "    # Load the images as grayscale\n",
    "    ref_gray = cv2.imread(os.path.join(imgs_dir, 'ref', f'r_{i}.png'), cv2.IMREAD_GRAYSCALE)\n",
    "    gsir_gray = cv2.imread(os.path.join(imgs_dir, 'gsir', f'r_{i}.png'), cv2.IMREAD_GRAYSCALE)\n",
    "    tensoir_gray = cv2.imread(os.path.join(imgs_dir, 'tensoir', f'r_{i}.png'), cv2.IMREAD_GRAYSCALE)\n",
    "    mine_gray = cv2.imread(os.path.join(imgs_dir, 'mine', f'r_{i}.png'), cv2.IMREAD_GRAYSCALE)\n",
    "\n",
    "    ref_spectrum = compute_fft(ref_gray)\n",
    "    gsir_spectrum = compute_fft(gsir_gray)\n",
    "    tensoir_spectrum = compute_fft(tensoir_gray)\n",
    "    mine_spectrum = compute_fft(mine_gray)\n",
    "\n",
    "    data_range = ref_spectrum.max() - ref_spectrum.min()\n",
    "    psnr_value1 = psnr(ref_spectrum, gsir_spectrum, data_range=data_range)\n",
    "    psnr_value2 = psnr(ref_spectrum, tensoir_spectrum, data_range=data_range)\n",
    "    psnr_value3 = psnr(ref_spectrum, mine_spectrum, data_range=data_range)\n",
    "\n",
    "    psnr_score1_lst = np.append(psnr_score1_lst, psnr_value1)\n",
    "    psnr_score2_lst = np.append(psnr_score2_lst, psnr_value2)\n",
    "    psnr_score3_lst = np.append(psnr_score3_lst, psnr_value3)\n",
    "\n",
    "print('PSNR between Reference and GS-IR:', psnr_score1_lst.mean())\n",
    "print('PSNR between Reference and TensoIR:', psnr_score2_lst.mean())\n",
    "print('PSNR between Reference and Mine:', psnr_score3_lst.mean())"
   ]
  },
  {
   "cell_type": "markdown",
   "metadata": {},
   "source": [
    "# LPIPS"
   ]
  },
  {
   "cell_type": "code",
   "execution_count": null,
   "metadata": {},
   "outputs": [],
   "source": [
    "# Initialize LPIPS model\n",
    "# You can use 'alex', 'vgg', or 'squeeze'\n",
    "lpips_model_alex = lpips.LPIPS(net='alex') \n",
    "lpips_model_vgg = lpips.LPIPS(net='vgg') \n",
    "lpips_model_squeeze = lpips.LPIPS(net='squeeze') "
   ]
  },
  {
   "cell_type": "markdown",
   "metadata": {},
   "source": [
    "## Image Domain"
   ]
  },
  {
   "cell_type": "code",
   "execution_count": null,
   "metadata": {},
   "outputs": [],
   "source": [
    "ref_imgs = []\n",
    "gsir_imgs = []\n",
    "tensoir_imgs = []\n",
    "mine_imgs = []\n",
    "\n",
    "for i in range(number_of_imgs):\n",
    "    print(f'Processing image {i}...')\n",
    "    # Load the images as RGB\n",
    "    ref = np.array(Image.open(os.path.join(imgs_dir, 'ref', f'r_{i}.png')).convert('RGB'))\n",
    "    gsir = np.array(Image.open(os.path.join(imgs_dir, 'gsir', f'r_{i}.png')).convert('RGB'))\n",
    "    tensoir = np.array(Image.open(os.path.join(imgs_dir, 'tensoir', f'r_{i}.png')).convert('RGB'))\n",
    "    mine = np.array(Image.open(os.path.join(imgs_dir, 'mine', f'r_{i}.png')).convert('RGB'))\n",
    "\n",
    "    ref_tensor = torch.from_numpy(ref).permute(2, 0, 1).unsqueeze(0)\n",
    "    gsir_tensor = torch.from_numpy(gsir).permute(2, 0, 1).unsqueeze(0)\n",
    "    tensoir_tensor = torch.from_numpy(tensoir).permute(2, 0, 1).unsqueeze(0)\n",
    "    mine_tensor = torch.from_numpy(mine).permute(2, 0, 1).unsqueeze(0)\n",
    "\n",
    "    ref_imgs.append(ref_tensor)\n",
    "    gsir_imgs.append(gsir_tensor)\n",
    "    tensoir_imgs.append(tensoir_tensor)\n",
    "    mine_imgs.append(mine_tensor)"
   ]
  },
  {
   "cell_type": "code",
   "execution_count": null,
   "metadata": {},
   "outputs": [],
   "source": [
    "ref_imgs = torch.cat(ref_imgs, dim=0)\n",
    "gsir_imgs = torch.cat(gsir_imgs, dim=0)\n",
    "tensoir_imgs = torch.cat(tensoir_imgs, dim=0)\n",
    "mine_imgs = torch.cat(mine_imgs, dim=0)"
   ]
  },
  {
   "cell_type": "markdown",
   "metadata": {},
   "source": [
    "### Alex"
   ]
  },
  {
   "cell_type": "code",
   "execution_count": null,
   "metadata": {},
   "outputs": [],
   "source": [
    "# Compute LPIPS\n",
    "lpips_alex_score1 = lpips_model_alex(ref_imgs, gsir_imgs)\n",
    "lpips_alex_score2 = lpips_model_alex(ref_imgs, tensoir_imgs)\n",
    "lpips_alex_score3 = lpips_model_alex(ref_imgs, mine_imgs)"
   ]
  },
  {
   "cell_type": "code",
   "execution_count": null,
   "metadata": {},
   "outputs": [],
   "source": [
    "lpips_alex_score1_rgb_mean = torch.mean(lpips_alex_score1)\n",
    "lpips_alex_score2_rgb_mean = torch.mean(lpips_alex_score2)\n",
    "lpips_alex_score3_rgb_mean = torch.mean(lpips_alex_score3)\n",
    "\n",
    "print('LPIPS distance between Reference and GS-IR:', lpips_alex_score1_rgb_mean)\n",
    "print('LPIPS distance between Reference and TensoIR:', lpips_alex_score2_rgb_mean)\n",
    "print('LPIPS distance between Reference and Mine:', lpips_alex_score3_rgb_mean)"
   ]
  },
  {
   "cell_type": "markdown",
   "metadata": {},
   "source": [
    "### VGG"
   ]
  },
  {
   "cell_type": "code",
   "execution_count": null,
   "metadata": {},
   "outputs": [],
   "source": [
    "lpips_vgg_score1 = lpips_model_vgg(ref_imgs, gsir_imgs)\n",
    "lpips_vgg_score2 = lpips_model_vgg(ref_imgs, tensoir_imgs)\n",
    "lpips_vgg_score3 = lpips_model_vgg(ref_imgs, mine_imgs)"
   ]
  },
  {
   "cell_type": "code",
   "execution_count": null,
   "metadata": {},
   "outputs": [],
   "source": [
    "lpips_vgg_score1_rgb_mean = torch.mean(lpips_vgg_score1)\n",
    "lpips_vgg_score2_rgb_mean = torch.mean(lpips_vgg_score2)\n",
    "lpips_vgg_score3_rgb_mean = torch.mean(lpips_vgg_score3)\n",
    "\n",
    "print('LPIPS distance between Reference and GS-IR:', lpips_vgg_score1_rgb_mean)\n",
    "print('LPIPS distance between Reference and TensoIR:', lpips_vgg_score2_rgb_mean)\n",
    "print('LPIPS distance between Reference and Mine:', lpips_vgg_score3_rgb_mean)"
   ]
  },
  {
   "cell_type": "markdown",
   "metadata": {},
   "source": [
    "### Squeeze"
   ]
  },
  {
   "cell_type": "code",
   "execution_count": null,
   "metadata": {},
   "outputs": [],
   "source": [
    "lpips_squeeze_score1 = lpips_model_squeeze(ref_imgs, gsir_imgs)\n",
    "lpips_squeeze_score2 = lpips_model_squeeze(ref_imgs, tensoir_imgs)\n",
    "lpips_squeeze_score3 = lpips_model_squeeze(ref_imgs, mine_imgs)"
   ]
  },
  {
   "cell_type": "code",
   "execution_count": null,
   "metadata": {},
   "outputs": [],
   "source": [
    "lpips_squeeze_score1_rgb_mean = torch.mean(lpips_squeeze_score1)\n",
    "lpips_squeeze_score2_rgb_mean = torch.mean(lpips_squeeze_score2)\n",
    "lpips_squeeze_score3_rgb_mean = torch.mean(lpips_squeeze_score3)\n",
    "\n",
    "print('LPIPS distance between Reference and GS-IR:', lpips_squeeze_score1_rgb_mean)\n",
    "print('LPIPS distance between Reference and TensoIR:', lpips_squeeze_score2_rgb_mean)\n",
    "print('LPIPS distance between Reference and Mine:', lpips_squeeze_score3_rgb_mean)"
   ]
  },
  {
   "cell_type": "markdown",
   "metadata": {},
   "source": [
    "## Fourier Domain"
   ]
  },
  {
   "cell_type": "code",
   "execution_count": null,
   "metadata": {},
   "outputs": [],
   "source": [
    "ref_imgs = []\n",
    "gsir_imgs = []\n",
    "tensoir_imgs = []\n",
    "mine_imgs = []\n",
    "\n",
    "for i in range(number_of_imgs):\n",
    "    print(f'Processing image {i}...')\n",
    "    # Load the images as grayscale\n",
    "    ref_gray = cv2.imread(os.path.join(imgs_dir, 'ref', f'r_{i}.png'), cv2.IMREAD_GRAYSCALE)\n",
    "    gsir_gray = cv2.imread(os.path.join(imgs_dir, 'gsir', f'r_{i}.png'), cv2.IMREAD_GRAYSCALE)\n",
    "    tensoir_gray = cv2.imread(os.path.join(imgs_dir, 'tensoir', f'r_{i}.png'), cv2.IMREAD_GRAYSCALE)\n",
    "    mine_gray = cv2.imread(os.path.join(imgs_dir, 'mine', f'r_{i}.png'), cv2.IMREAD_GRAYSCALE)\n",
    "\n",
    "    ref_spectrum = compute_fft(ref_gray)\n",
    "    gsir_spectrum = compute_fft(gsir_gray)\n",
    "    tensoir_spectrum = compute_fft(tensoir_gray)\n",
    "    mine_spectrum = compute_fft(mine_gray)\n",
    "\n",
    "    ref_spectrum_tensor = torch.from_numpy(ref_spectrum).unsqueeze(0)\n",
    "    gsir_spectrum_tensor = torch.from_numpy(gsir_spectrum).unsqueeze(0)\n",
    "    tensoir_spectrum_tensor = torch.from_numpy(tensoir_spectrum).unsqueeze(0)\n",
    "    mine_spectrum_tensor = torch.from_numpy(mine_spectrum).unsqueeze(0)\n",
    "\n",
    "    ref_imgs.append(ref_spectrum_tensor)\n",
    "    gsir_imgs.append(gsir_spectrum_tensor)\n",
    "    tensoir_imgs.append(tensoir_spectrum_tensor)\n",
    "    mine_imgs.append(mine_spectrum_tensor)"
   ]
  },
  {
   "cell_type": "code",
   "execution_count": null,
   "metadata": {},
   "outputs": [],
   "source": [
    "ref_imgs = torch.cat(ref_imgs, dim=0)\n",
    "gsir_imgs = torch.cat(gsir_imgs, dim=0)\n",
    "tensoir_imgs = torch.cat(tensoir_imgs, dim=0)\n",
    "mine_imgs = torch.cat(mine_imgs, dim=0)"
   ]
  },
  {
   "cell_type": "markdown",
   "metadata": {},
   "source": [
    "### Alex"
   ]
  },
  {
   "cell_type": "code",
   "execution_count": null,
   "metadata": {},
   "outputs": [],
   "source": [
    "lpips_alex_score1 = lpips_model_alex(ref_spectrum_tensor, gsir_spectrum_tensor)\n",
    "lpips_alex_score2 = lpips_model_alex(ref_spectrum_tensor, tensoir_spectrum_tensor)\n",
    "lpips_alex_score3 = lpips_model_alex(ref_spectrum_tensor, mine_spectrum_tensor)"
   ]
  },
  {
   "cell_type": "code",
   "execution_count": null,
   "metadata": {},
   "outputs": [],
   "source": [
    "lpips_alex_score1_fourier_mean = torch.mean(lpips_alex_score1)\n",
    "lpips_alex_score2_fourier_mean = torch.mean(lpips_alex_score2)\n",
    "lpips_alex_score3_fourier_mean = torch.mean(lpips_alex_score3)\n",
    "\n",
    "print('LPIPS distance between Reference and GS-IR:', lpips_alex_score1_fourier_mean)\n",
    "print('LPIPS distance between Reference and TensoIR:', lpips_alex_score2_fourier_mean)\n",
    "print('LPIPS distance between Reference and Mine:', lpips_alex_score3_fourier_mean)"
   ]
  },
  {
   "cell_type": "markdown",
   "metadata": {},
   "source": [
    "### VGG"
   ]
  },
  {
   "cell_type": "code",
   "execution_count": null,
   "metadata": {},
   "outputs": [],
   "source": [
    "lpips_vgg_score1 = lpips_model_vgg(ref_spectrum_tensor, gsir_spectrum_tensor)\n",
    "lpips_vgg_score2 = lpips_model_vgg(ref_spectrum_tensor, tensoir_spectrum_tensor)\n",
    "lpips_vgg_score3 = lpips_model_vgg(ref_spectrum_tensor, mine_spectrum_tensor)"
   ]
  },
  {
   "cell_type": "code",
   "execution_count": null,
   "metadata": {},
   "outputs": [],
   "source": [
    "lpips_vgg_score1_fourier_mean = torch.mean(lpips_vgg_score1)\n",
    "lpips_vgg_score2_fourier_mean = torch.mean(lpips_vgg_score2)\n",
    "lpips_vgg_score3_fourier_mean = torch.mean(lpips_vgg_score3)\n",
    "\n",
    "print('LPIPS distance between Reference and GS-IR:', lpips_vgg_score1_fourier_mean)\n",
    "print('LPIPS distance between Reference and TensoIR:', lpips_vgg_score2_fourier_mean)\n",
    "print('LPIPS distance between Reference and Mine:', lpips_vgg_score3_fourier_mean)"
   ]
  },
  {
   "cell_type": "markdown",
   "metadata": {},
   "source": [
    "### Squeeze"
   ]
  },
  {
   "cell_type": "code",
   "execution_count": null,
   "metadata": {},
   "outputs": [],
   "source": [
    "lpips_squeeze_score1 = lpips_model_squeeze(ref_spectrum_tensor, gsir_spectrum_tensor)\n",
    "lpips_squeeze_score2 = lpips_model_squeeze(ref_spectrum_tensor, tensoir_spectrum_tensor)\n",
    "lpips_squeeze_score3 = lpips_model_squeeze(ref_spectrum_tensor, mine_spectrum_tensor)"
   ]
  },
  {
   "cell_type": "code",
   "execution_count": null,
   "metadata": {},
   "outputs": [],
   "source": [
    "lpips_squeeze_score1_fourier_mean = torch.mean(lpips_squeeze_score1)\n",
    "lpips_squeeze_score2_fourier_mean = torch.mean(lpips_squeeze_score2)\n",
    "lpips_squeeze_score3_fourier_mean = torch.mean(lpips_squeeze_score3)\n",
    "\n",
    "print('LPIPS distance between Reference and GS-IR:', lpips_squeeze_score1_fourier_mean)\n",
    "print('LPIPS distance between Reference and TensoIR:', lpips_squeeze_score2_fourier_mean)\n",
    "print('LPIPS distance between Reference and Mine:', lpips_squeeze_score3_fourier_mean)"
   ]
  },
  {
   "cell_type": "markdown",
   "metadata": {},
   "source": [
    "## FLIP"
   ]
  },
  {
   "cell_type": "markdown",
   "metadata": {},
   "source": [
    "Check Windows"
   ]
  }
 ],
 "metadata": {
  "kernelspec": {
   "display_name": "Python 3 (ipykernel)",
   "language": "python",
   "name": "python3"
  },
  "language_info": {
   "codemirror_mode": {
    "name": "ipython",
    "version": 3
   },
   "file_extension": ".py",
   "mimetype": "text/x-python",
   "name": "python",
   "nbconvert_exporter": "python",
   "pygments_lexer": "ipython3",
   "version": "3.9.undefined"
  }
 },
 "nbformat": 4,
 "nbformat_minor": 4
}
