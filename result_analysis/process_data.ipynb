{
 "cells": [
  {
   "cell_type": "code",
   "execution_count": 1,
   "metadata": {},
   "outputs": [],
   "source": [
    "import os\n",
    "from PIL import Image"
   ]
  },
  {
   "cell_type": "code",
   "execution_count": 2,
   "metadata": {},
   "outputs": [],
   "source": [
    "objs = ['bob', 'duck', 'spot']\n",
    "env_maps = ['clarens', 'golf', 'road']\n",
    "raw_data_dir = 'raw_data'"
   ]
  },
  {
   "cell_type": "code",
   "execution_count": 4,
   "metadata": {},
   "outputs": [],
   "source": [
    "for obj in objs:\n",
    "    for env_map in env_maps:\n",
    "        if not obj == 'bob' or not env_map == 'clarens':\n",
    "            continue\n",
    "\n",
    "        cur_data_root = os.path.join(os.getcwd(), raw_data_dir, f'{obj}_{env_map}')\n",
    "        for pipeline in os.listdir(cur_data_root):\n",
    "            pipeline_dir = os.path.join(cur_data_root, pipeline)\n",
    "\n",
    "            if pipeline == 'gsir':\n",
    "                for img in os.listdir(pipeline_dir):\n",
    "                    if img.endswith('brdf.png') or img.endswith('albedo.png'):\n",
    "                        os.remove(os.path.join(pipeline_dir, img))\n",
    "                    else:\n",
    "                        if img.startswith('r_'):\n",
    "                            continue\n",
    "                        new_img = f'r_{int(img[:-4])}.png'\n",
    "                        os.rename(os.path.join(pipeline_dir, img), os.path.join(pipeline_dir, new_img))\n",
    "            elif pipeline == 'tensoir':\n",
    "                for img in os.listdir(pipeline_dir):\n",
    "                    if img.startswith('r_'):\n",
    "                            continue\n",
    "                    img_data = Image.open(os.path.join(pipeline_dir, img))\n",
    "                    # Define the left half crop box (left, upper, right, lower)\n",
    "                    left_half_box = (0, 0, 800, 800)\n",
    "                    # Crop the image\n",
    "                    left_half_image = img_data.crop(left_half_box)\n",
    "                    new_img_path = f'r_{int(img[:-4])}.png'\n",
    "                    left_half_image.save(os.path.join(pipeline_dir, new_img_path))\n",
    "                    os.remove(os.path.join(pipeline_dir, img))\n",
    "            elif pipeline == 'mine':\n",
    "                for img in os.listdir(pipeline_dir):\n",
    "                    if img.endswith('ref.png'):\n",
    "                        os.remove(os.path.join(pipeline_dir, img))\n",
    "                    elif img.endswith('opt.png'):\n",
    "                        img_idx = int(img.split('_')[1])\n",
    "                        new_img = f'r_{img_idx}.png'\n",
    "                        os.rename(os.path.join(pipeline_dir, img), os.path.join(pipeline_dir, new_img))"
   ]
  },
  {
   "cell_type": "code",
   "execution_count": null,
   "metadata": {},
   "outputs": [],
   "source": []
  }
 ],
 "metadata": {
  "kernelspec": {
   "display_name": "base",
   "language": "python",
   "name": "python3"
  },
  "language_info": {
   "codemirror_mode": {
    "name": "ipython",
    "version": 3
   },
   "file_extension": ".py",
   "mimetype": "text/x-python",
   "name": "python",
   "nbconvert_exporter": "python",
   "pygments_lexer": "ipython3",
   "version": "3.9.16"
  }
 },
 "nbformat": 4,
 "nbformat_minor": 2
}
