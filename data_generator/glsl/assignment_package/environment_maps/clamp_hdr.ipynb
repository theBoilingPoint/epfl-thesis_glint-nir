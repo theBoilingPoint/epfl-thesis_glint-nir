{
 "cells": [
  {
   "cell_type": "markdown",
   "metadata": {},
   "source": [
    "When rendering the scene with environment maps, errors will occur if the values of the environment map are too high. This notebook is for processing the maps so that the values are within a reasonable range. You should keep this notebook in the same directory as the environment maps."
   ]
  },
  {
   "cell_type": "code",
   "execution_count": null,
   "metadata": {},
   "outputs": [],
   "source": [
    "import numpy as np\n",
    "import cv2\n",
    "import imageio.v3 as iio"
   ]
  },
  {
   "cell_type": "code",
   "execution_count": null,
   "metadata": {},
   "outputs": [],
   "source": [
    "# You only need to edit this cell\n",
    "map_name = 'golf'\n",
    "extension = 'hdr'"
   ]
  },
  {
   "cell_type": "code",
   "execution_count": null,
   "metadata": {},
   "outputs": [],
   "source": [
    "image = cv2.imread(f\"{map_name}.{extension}\", cv2.IMREAD_ANYDEPTH)\n",
    "image = cv2.cvtColor(np.clip(image, 0.0, 50000.0), cv2.COLOR_RGB2BGR)"
   ]
  },
  {
   "cell_type": "code",
   "execution_count": null,
   "metadata": {},
   "outputs": [],
   "source": [
    "iio.imwrite(f\"{map_name}_clamped.{extension}\", image)"
   ]
  }
 ],
 "metadata": {
  "kernelspec": {
   "display_name": "dmodel",
   "language": "python",
   "name": "python3"
  },
  "language_info": {
   "name": "python",
   "version": "3.9.19"
  }
 },
 "nbformat": 4,
 "nbformat_minor": 2
}
